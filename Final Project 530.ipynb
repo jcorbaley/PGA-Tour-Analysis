{
 "cells": [
  {
   "cell_type": "markdown",
   "metadata": {},
   "source": [
    "Name: Corbaley, Jason\n",
    "Class: DSC 530\n",
    "Assignment: Final Project\n",
    "Date: November 16, 2019\n",
    "\n",
    "The goal of this project is to look at data from the past Professional Golfers Association's (PGA) history to see if a higher fairway hit percentage relates to the amount of money made on the PGA tour. I obtained my data from Kaggle.com."
   ]
  },
  {
   "cell_type": "code",
   "execution_count": 1,
   "metadata": {},
   "outputs": [
    {
     "name": "stdout",
     "output_type": "stream",
     "text": [
      "Player Name            object\n",
      "Fairway Percentage    float64\n",
      "Year                    int64\n",
      "Avg Distance          float64\n",
      "gir                   float64\n",
      "Wins                  float64\n",
      "Top 10                float64\n",
      "Money                   int64\n",
      "dtype: object\n"
     ]
    },
    {
     "data": {
      "text/html": [
       "<div>\n",
       "<style scoped>\n",
       "    .dataframe tbody tr th:only-of-type {\n",
       "        vertical-align: middle;\n",
       "    }\n",
       "\n",
       "    .dataframe tbody tr th {\n",
       "        vertical-align: top;\n",
       "    }\n",
       "\n",
       "    .dataframe thead th {\n",
       "        text-align: right;\n",
       "    }\n",
       "</style>\n",
       "<table border=\"1\" class=\"dataframe\">\n",
       "  <thead>\n",
       "    <tr style=\"text-align: right;\">\n",
       "      <th></th>\n",
       "      <th>Player Name</th>\n",
       "      <th>Fairway Percentage</th>\n",
       "      <th>Year</th>\n",
       "      <th>Avg Distance</th>\n",
       "      <th>gir</th>\n",
       "      <th>Wins</th>\n",
       "      <th>Top 10</th>\n",
       "      <th>Money</th>\n",
       "    </tr>\n",
       "  </thead>\n",
       "  <tbody>\n",
       "    <tr>\n",
       "      <th>0</th>\n",
       "      <td>Henrik Stenson</td>\n",
       "      <td>75.19</td>\n",
       "      <td>2018</td>\n",
       "      <td>291.5</td>\n",
       "      <td>73.51</td>\n",
       "      <td>0.0</td>\n",
       "      <td>5.0</td>\n",
       "      <td>2680487</td>\n",
       "    </tr>\n",
       "    <tr>\n",
       "      <th>1</th>\n",
       "      <td>Ryan Armour</td>\n",
       "      <td>73.58</td>\n",
       "      <td>2018</td>\n",
       "      <td>283.5</td>\n",
       "      <td>68.22</td>\n",
       "      <td>1.0</td>\n",
       "      <td>3.0</td>\n",
       "      <td>2485203</td>\n",
       "    </tr>\n",
       "    <tr>\n",
       "      <th>2</th>\n",
       "      <td>Chez Reavie</td>\n",
       "      <td>72.24</td>\n",
       "      <td>2018</td>\n",
       "      <td>286.5</td>\n",
       "      <td>68.67</td>\n",
       "      <td>0.0</td>\n",
       "      <td>3.0</td>\n",
       "      <td>2700018</td>\n",
       "    </tr>\n",
       "    <tr>\n",
       "      <th>3</th>\n",
       "      <td>Ryan Moore</td>\n",
       "      <td>71.94</td>\n",
       "      <td>2018</td>\n",
       "      <td>289.2</td>\n",
       "      <td>68.80</td>\n",
       "      <td>0.0</td>\n",
       "      <td>5.0</td>\n",
       "      <td>1986608</td>\n",
       "    </tr>\n",
       "    <tr>\n",
       "      <th>4</th>\n",
       "      <td>Brian Stuard</td>\n",
       "      <td>71.44</td>\n",
       "      <td>2018</td>\n",
       "      <td>278.9</td>\n",
       "      <td>67.12</td>\n",
       "      <td>0.0</td>\n",
       "      <td>3.0</td>\n",
       "      <td>1089763</td>\n",
       "    </tr>\n",
       "  </tbody>\n",
       "</table>\n",
       "</div>"
      ],
      "text/plain": [
       "      Player Name  Fairway Percentage  Year  Avg Distance    gir  Wins  \\\n",
       "0  Henrik Stenson               75.19  2018         291.5  73.51   0.0   \n",
       "1     Ryan Armour               73.58  2018         283.5  68.22   1.0   \n",
       "2     Chez Reavie               72.24  2018         286.5  68.67   0.0   \n",
       "3      Ryan Moore               71.94  2018         289.2  68.80   0.0   \n",
       "4    Brian Stuard               71.44  2018         278.9  67.12   0.0   \n",
       "\n",
       "   Top 10    Money  \n",
       "0     5.0  2680487  \n",
       "1     3.0  2485203  \n",
       "2     3.0  2700018  \n",
       "3     5.0  1986608  \n",
       "4     3.0  1089763  "
      ]
     },
     "execution_count": 1,
     "metadata": {},
     "output_type": "execute_result"
    }
   ],
   "source": [
    "import pandas as pd\n",
    "import matplotlib.pyplot as plt\n",
    "import os\n",
    "\n",
    "pga_data = pd.read_csv('pgaTourData.csv')\n",
    "\n",
    "#Replacing nan values with 0 in the columns that should show 0 instead of nan. \n",
    "\n",
    "pga_data[['Wins', 'Top 10', 'Money']] = pga_data[['Wins', 'Top 10', 'Money']].fillna(0)\n",
    "\n",
    "#Droping the unnecessary columns that aren't related to my analysis.\n",
    "\n",
    "pga_data.drop(['Rounds', 'Average Putts', 'Average Scrambling', 'Average Score', 'Points', 'Average SG Putts',\n",
    "               'Average SG Total', 'SG:OTT', 'SG:APR', 'SG:ARG'], axis = 1, inplace = True)\n",
    "\n",
    "#Removing the rows with NaN values.\n",
    "\n",
    "pga_data[\"Money\"] = pga_data[\"Money\"].replace([\"\\$\", ','],\"\", regex=True).astype(int)\n",
    "\n",
    "\n",
    "pga_data.dropna(inplace = True)\n",
    "\n",
    "pga_data['Money'].astype(int)\n",
    "\n",
    "print(pga_data.dtypes)\n",
    "pga_data.head()\n",
    "\n",
    "       \n",
    "    "
   ]
  },
  {
   "cell_type": "markdown",
   "metadata": {},
   "source": [
    "Player Name – The name of the player.\n",
    "\n",
    "Fairway percentage – The percent of times a fairway was hit after the tee shot.\n",
    "\n",
    "Avg Distance – The average driving distance hit off the tee.\n",
    "\n",
    "GIR – The percent amount of greens hit in regulation.\n",
    "\n",
    "Top 10 – The amount of time the player was in the top 10 of a tournament. \n",
    "\n",
    "Wins – The amount of wins the player had.\n",
    "\n",
    "Money – The amount of money earned by the player during the season. "
   ]
  },
  {
   "cell_type": "code",
   "execution_count": 2,
   "metadata": {},
   "outputs": [
    {
     "data": {
      "text/plain": [
       "Player Name           0\n",
       "Fairway Percentage    0\n",
       "Year                  0\n",
       "Avg Distance          0\n",
       "gir                   0\n",
       "Wins                  0\n",
       "Top 10                0\n",
       "Money                 0\n",
       "dtype: int64"
      ]
     },
     "execution_count": 2,
     "metadata": {},
     "output_type": "execute_result"
    }
   ],
   "source": [
    "pga_data.isnull().sum()"
   ]
  },
  {
   "cell_type": "code",
   "execution_count": 3,
   "metadata": {},
   "outputs": [
    {
     "name": "stdout",
     "output_type": "stream",
     "text": [
      "Mean = 61.44\n",
      "Min = 43.02\n",
      "Max = 76.88\n",
      "Range = 33.86\n"
     ]
    },
    {
     "data": {
      "image/png": "[encoded data removed]",
      "text/plain": [
       "<Figure size 432x288 with 1 Axes>"
      ]
     },
     "metadata": {
      "needs_background": "light"
     },
     "output_type": "display_data"
    }
   ],
   "source": [
    "#Histogram of percent of fairways hit.\n",
    "\n",
    "hist_plot = pga_data['Fairway Percentage'].hist(bins=50)\n",
    "hist_plot.set_title('Percent of Fairways Hit')\n",
    "hist_plot.set_xlabel('Percent of Fairways Hit (In percents)')\n",
    "hist_plot.set_ylabel('Frequency')\n",
    "\n",
    "fairway_mean = pga_data['Fairway Percentage'].mean()\n",
    "fairway_mode = pga_data['Fairway Percentage'].mode()\n",
    "fairway_min = pga_data['Fairway Percentage'].min()\n",
    "fairway_max = pga_data['Fairway Percentage'].max()\n",
    "\n",
    "print('Mean =', round(fairway_mean, 2))\n",
    "print('Min =', fairway_min)\n",
    "print('Max =', fairway_max)\n",
    "print('Range =', round(fairway_max - fairway_min, 2))"
   ]
  },
  {
   "cell_type": "markdown",
   "metadata": {},
   "source": [
    "The percent of fairways hit is distributed normally. The mean is 61.44%, the min is 43.02%, the max is 76.88%, and the range is 33.86%. There looks like there is an outlier to the left. It could have been caused by a player getting injured so it caused him to have a bad/short season.   "
   ]
  },
  {
   "cell_type": "code",
   "execution_count": 4,
   "metadata": {},
   "outputs": [
    {
     "name": "stdout",
     "output_type": "stream",
     "text": [
      "Mean = 290.81\n",
      "Min = 266.4\n",
      "Max = 319.7\n",
      "Range = 53.3\n"
     ]
    },
    {
     "data": {
      "image/png": "[encoded data removed]",
      "text/plain": [
       "<Figure size 432x288 with 1 Axes>"
      ]
     },
     "metadata": {
      "needs_background": "light"
     },
     "output_type": "display_data"
    }
   ],
   "source": [
    "#Histogram of average driving distance\n",
    "hist_plot = pga_data['Avg Distance'].hist(bins=50)\n",
    "hist_plot.set_title('Average Driving Distance')\n",
    "hist_plot.set_xlabel('Average Driving Distance (in Yards)')\n",
    "hist_plot.set_ylabel('Frequency')\n",
    "\n",
    "distance_mean = pga_data['Avg Distance'].mean()\n",
    "distance_mode = pga_data['Avg Distance'].mode()\n",
    "distance_min = pga_data['Avg Distance'].min()\n",
    "distance_max = pga_data['Avg Distance'].max()\n",
    "\n",
    "print('Mean =', round(distance_mean, 2))\n",
    "print('Min =', distance_min)\n",
    "print('Max =', distance_max)\n",
    "print('Range =', round(distance_max - distance_min, 2))"
   ]
  },
  {
   "cell_type": "markdown",
   "metadata": {},
   "source": [
    "The average driving distance is distributed normally. Our summary statistics are: \n",
    "\n",
    "Mean mean driving distance is 290.81 \n",
    "Minimum average driving distance = 266.4 yards\n",
    "Maximum average driving distance = 319.7 yards\n",
    "Range of the average driving distances = 53.3 yards\n",
    "\n",
    "There are no outliers in the data. The center of the data has a large spike in the middle. It looks to be really close where the mean is so it makes sense there are a lot of people that have an average driving distance around 290 yards. "
   ]
  },
  {
   "cell_type": "code",
   "execution_count": 5,
   "metadata": {},
   "outputs": [
    {
     "name": "stdout",
     "output_type": "stream",
     "text": [
      "Mean = 65.66\n",
      "Min = 53.54\n",
      "Max = 73.52\n",
      "Range = 19.98\n"
     ]
    },
    {
     "data": {
      "image/png": "[encoded data removed]",
      "text/plain": [
       "<Figure size 432x288 with 1 Axes>"
      ]
     },
     "metadata": {
      "needs_background": "light"
     },
     "output_type": "display_data"
    }
   ],
   "source": [
    "hist_plot = pga_data['gir'].hist(bins=50)\n",
    "hist_plot.set_title('Greens Hit in Regulation')\n",
    "hist_plot.set_xlabel('Percent of Greens Hit in Regulation (In percents)')\n",
    "hist_plot.set_ylabel('Frequency')\n",
    "\n",
    "gir_mean = pga_data['gir'].mean()\n",
    "gir_mode = pga_data['gir'].mode()\n",
    "gir_min = pga_data['gir'].min()\n",
    "gir_max = pga_data['gir'].max()\n",
    "\n",
    "print('Mean =', round(gir_mean, 2))\n",
    "print('Min =', gir_min)\n",
    "print('Max =', gir_max)\n",
    "print('Range =', round(gir_max - gir_min, 2))"
   ]
  },
  {
   "cell_type": "markdown",
   "metadata": {},
   "source": [
    "The Greens Hit in regulation is also normally distributed. There looks to be one outlier out to the right. It's not a major outlier but it does lie further away from the data set. It looks like the outlier is around 3% off of the rest of the data. Even though it is only off by 3%, I would consider this an outlier because in the professional golf association the pros are really close in their stats. There can be an outlier here because the player may have only played a small amout of rounds on the tour and had a bad season. Our other summary statistics are:\n",
    "\n",
    "Mean GIR = 65.66%\n",
    "Minimum GIR = 53.54%\n",
    "Maximum GIR = 73.52%\n",
    "Range of GIR = 19.98%\n"
   ]
  },
  {
   "cell_type": "code",
   "execution_count": 6,
   "metadata": {},
   "outputs": [
    {
     "name": "stdout",
     "output_type": "stream",
     "text": [
      "Mean = 2.33\n",
      "Min = 0.0\n",
      "Max = 14.0\n",
      "Range = 14.0\n"
     ]
    },
    {
     "data": {
      "image/png": "[encoded data removed]",
      "text/plain": [
       "<Figure size 432x288 with 1 Axes>"
      ]
     },
     "metadata": {
      "needs_background": "light"
     },
     "output_type": "display_data"
    }
   ],
   "source": [
    "#Number of top 10s a player had.\n",
    "\n",
    "hist_plot = pga_data['Top 10'].hist(bins=50)\n",
    "hist_plot.set_title('Number of Top 10s in a Season')\n",
    "hist_plot.set_xlabel('Number of Top 10s')\n",
    "hist_plot.set_ylabel('Frequency')\n",
    "\n",
    "Top10_mean = pga_data['Top 10'].mean()\n",
    "Top10_mode = pga_data['Top 10'].mode()\n",
    "Top10_min = pga_data['Top 10'].min()\n",
    "Top10_max = pga_data['Top 10'].max()\n",
    "\n",
    "print('Mean =', round(Top10_mean, 2))\n",
    "print('Min =', Top10_min)\n",
    "print('Max =', Top10_max)\n",
    "print('Range =', round(Top10_max - Top10_min, 2))"
   ]
  },
  {
   "cell_type": "markdown",
   "metadata": {},
   "source": [
    "This data is skewed to the right. This makes sense for the number of top 10s made in a season. It makes sense because there in every tournament there can only be 10 people in the top 10. That means a lot of the players won't make a top 10 or may only get in the top 10 1 or 2 times which we see in the data. There are two outliers at 12 and 14. These players had a particularly good season. I will leave them in there because though uncommon it is possible for a player to have those numbers. "
   ]
  },
  {
   "cell_type": "code",
   "execution_count": 7,
   "metadata": {},
   "outputs": [
    {
     "name": "stdout",
     "output_type": "stream",
     "text": [
      "Mean = 1485132.83\n",
      "Min = 0\n",
      "Max = 12030465\n",
      "Range = 12030465\n"
     ]
    },
    {
     "data": {
      "image/png": "[encoded data removed]",
      "text/plain": [
       "<Figure size 432x288 with 1 Axes>"
      ]
     },
     "metadata": {
      "needs_background": "light"
     },
     "output_type": "display_data"
    }
   ],
   "source": [
    "#Money a player made during the season.\n",
    "\n",
    "hist_plot = pga_data['Money'].hist(bins=50)\n",
    "hist_plot.set_title('Money Made During a Season')\n",
    "hist_plot.set_xlabel('Money Made (in 10 million)')\n",
    "hist_plot.set_ylabel('Frequency')\n",
    "\n",
    "Money_mean = pga_data['Money'].mean()\n",
    "Money_mode = pga_data['Money'].mode()\n",
    "Money_min = pga_data['Money'].min()\n",
    "Money_max = pga_data['Money'].max()\n",
    "\n",
    "print('Mean =', round(Money_mean, 2))\n",
    "print('Min =', Money_min)\n",
    "print('Max =', Money_max)\n",
    "print('Range =', round(Money_max - Money_min, 2))"
   ]
  },
  {
   "cell_type": "markdown",
   "metadata": {},
   "source": [
    "This data is skewed to the right. There is an outlier off to the right. This can be contributed to a player placing higher in a tournament. This goes with the rest of our data because when we looked at the Top 10 variable we noticed there was one outlier to the right as well. The outlier we see here could be related to that one. The range doesn't tell us too much here because there are guys who don't make any money for the season so the range is just our max. The max at $12 million makes sense because the last tournament of the year the winner gets $10 million. "
   ]
  },
  {
   "cell_type": "code",
   "execution_count": 109,
   "metadata": {},
   "outputs": [
    {
     "data": {
      "text/plain": [
       "<function matplotlib.pyplot.show(*args, **kw)>"
      ]
     },
     "execution_count": 109,
     "metadata": {},
     "output_type": "execute_result"
    },
    {
     "data": {
      "image/png": "[encoded data removed]",
      "text/plain": [
       "<Figure size 432x288 with 1 Axes>"
      ]
     },
     "metadata": {
      "needs_background": "light"
     },
     "output_type": "display_data"
    }
   ],
   "source": [
    "#Here I filtered the Fairway Percentage column to less than 61 percent. Then, I counted the number of players that\n",
    "#were with in a certain range of money and created a new data frame. Next is the PMF.\n",
    "\n",
    "pga_fair_low = pga_data[pga_data['Fairway Percentage'] < 61]\n",
    "pga_money1 = pga_fair_low[pga_fair_low['Money'] > 10000000].count()\n",
    "pga_money2 = pga_fair_low[(pga_fair_low['Money'] < 999999) & (pga_fair_low['Money'] > 9000000) ].count()\n",
    "pga_money3 = pga_fair_low[(pga_fair_low['Money'] < 8999999) & (pga_fair_low['Money'] > 8000000) ].count()\n",
    "pga_money4 = pga_fair_low[(pga_fair_low['Money'] < 7999999) & (pga_fair_low['Money'] > 7000000) ].count()\n",
    "pga_money5 = pga_fair_low[(pga_fair_low['Money'] < 6999999) & (pga_fair_low['Money'] > 6000000) ].count()\n",
    "pga_money6 = pga_fair_low[(pga_fair_low['Money'] < 599999) & (pga_fair_low['Money'] > 5000000) ].count()\n",
    "pga_money7 = pga_fair_low[(pga_fair_low['Money'] < 499999) & (pga_fair_low['Money'] > 4000000) ].count()\n",
    "pga_money8 = pga_fair_low[(pga_fair_low['Money'] < 399999) & (pga_fair_low['Money'] > 3000000) ].count()\n",
    "pga_money9 = pga_fair_low[(pga_fair_low['Money'] < 299999) & (pga_fair_low['Money'] > 2000000) ].count()\n",
    "pga_money10 = pga_fair_low[(pga_fair_low['Money'] < 199999) & (pga_fair_low['Money'] > 1000000) ].count()\n",
    "pga_money11 = pga_fair_low[pga_fair_low['Money'] < 99999].count()\n",
    "\n",
    "\n",
    "money_df1 = pd.DataFrame(pga_money1)\n",
    "money_df2 = pd.DataFrame(pga_money2)\n",
    "money_df3 = pd.DataFrame(pga_money3)\n",
    "money_df4 = pd.DataFrame(pga_money4)\n",
    "money_df5 = pd.DataFrame(pga_money5)\n",
    "money_df6 = pd.DataFrame(pga_money6)\n",
    "money_df7 = pd.DataFrame(pga_money7)\n",
    "money_df8 = pd.DataFrame(pga_money8)\n",
    "money_df9 = pd.DataFrame(pga_money9)\n",
    "money_df10 = pd.DataFrame(pga_money10)\n",
    "money_df11 = pd.DataFrame(pga_money11)\n",
    "\n",
    "frames = [money_df1, money_df2, money_df3, money_df4, money_df5, money_df6, money_df7, money_df8, money_df9,\n",
    "         money_df10, money_df11]\n",
    "                                    \n",
    "combined = pd.concat(frames, axis = 1) \n",
    "\n",
    "combined.columns = ['> 10,000,000', '9,000,000s', '8,000,000s', '7,000,000', '6,000,000s', '5,000,000s', '4,000,000s',\n",
    "                   '3,000,000s', '2,000,000s', '1,000,000s', '< 1,000,000']\n",
    "combined\n",
    "\n",
    "combined2 = pd.DataFrame.transpose(combined)\n",
    "\n",
    "pga_fair = combined2['Fairway Percentage']\n",
    "pga_fair2 = pd.DataFrame(pga_fair)\n",
    "pga_fair2 = pga_fair2.rename(columns = {'Fairway Percentage': 'Counts'})\n",
    "total = pga_fair2['Counts'].sum()\n",
    "pga_fair2['Fairway Percentage'] = pga_fair.index\n",
    "pga_fair2['Probability'] = pga_fair2['Counts']/total\n",
    "plt.bar(pga_fair2['Fairway Percentage'], pga_fair2['Probability'])\n",
    "plt.xlabel('Money Earned')\n",
    "plt.ylabel('Probability')\n",
    "plt.title('PMF of Money Earned when Fairways Hit Percentage is Less than 61%')\n",
    "plt.xticks(rotation=45)\n",
    "plt.show"
   ]
  },
  {
   "cell_type": "code",
   "execution_count": 110,
   "metadata": {},
   "outputs": [
    {
     "data": {
      "text/plain": [
       "<function matplotlib.pyplot.show(*args, **kw)>"
      ]
     },
     "execution_count": 110,
     "metadata": {},
     "output_type": "execute_result"
    },
    {
     "data": {
      "image/png": "[encoded data removed]",
      "text/plain": [
       "<Figure size 432x288 with 1 Axes>"
      ]
     },
     "metadata": {
      "needs_background": "light"
     },
     "output_type": "display_data"
    }
   ],
   "source": [
    "#Here I filtered the Fairway Percentage column to greater than 61 percent. Then, I counted the number of players that\n",
    "#were with in a certain range of money and created a new data frame. Next is the PMF.\n",
    "pga_fair_high = pga_data[pga_data['Fairway Percentage'] > 61]\n",
    "pga_money12 = pga_fair_high[pga_fair_high['Money'] > 10000000].count()\n",
    "pga_money13 = pga_fair_high[(pga_fair_high['Money'] < 999999) & (pga_fair_high['Money'] > 9000000) ].count()\n",
    "pga_money14 = pga_fair_high[(pga_fair_high['Money'] < 8999999) & (pga_fair_high['Money'] > 8000000) ].count()\n",
    "pga_money15 = pga_fair_high[(pga_fair_high['Money'] < 7999999) & (pga_fair_high['Money'] > 7000000) ].count()\n",
    "pga_money16 = pga_fair_high[(pga_fair_high['Money'] < 6999999) & (pga_fair_high['Money'] > 6000000) ].count()\n",
    "pga_money17 = pga_fair_high[(pga_fair_high['Money'] < 599999) & (pga_fair_high['Money'] > 5000000) ].count()\n",
    "pga_money18 = pga_fair_high[(pga_fair_high['Money'] < 499999) & (pga_fair_high['Money'] > 4000000) ].count()\n",
    "pga_money19 = pga_fair_high[(pga_fair_high['Money'] < 399999) & (pga_fair_high['Money'] > 3000000) ].count()\n",
    "pga_money20 = pga_fair_high[(pga_fair_high['Money'] < 299999) & (pga_fair_high['Money'] > 2000000) ].count()\n",
    "pga_money21 = pga_fair_high[(pga_fair_high['Money'] < 199999) & (pga_fair_high['Money'] > 1000000) ].count()\n",
    "pga_money22 = pga_fair_high[pga_fair_high['Money'] < 99999].count()\n",
    "\n",
    "\n",
    "money_df12 = pd.DataFrame(pga_money12)\n",
    "money_df13 = pd.DataFrame(pga_money13)\n",
    "money_df14 = pd.DataFrame(pga_money14)\n",
    "money_df15 = pd.DataFrame(pga_money15)\n",
    "money_df16 = pd.DataFrame(pga_money16)\n",
    "money_df17 = pd.DataFrame(pga_money17)\n",
    "money_df18 = pd.DataFrame(pga_money18)\n",
    "money_df19 = pd.DataFrame(pga_money19)\n",
    "money_df20 = pd.DataFrame(pga_money20)\n",
    "money_df21 = pd.DataFrame(pga_money21)\n",
    "money_df22 = pd.DataFrame(pga_money22)\n",
    "\n",
    "frames = [money_df12, money_df13, money_df14, money_df15, money_df16, money_df17, money_df18, money_df19, money_df20,\n",
    "         money_df21, money_df22]\n",
    "                                    \n",
    "combined3 = pd.concat(frames, axis = 1) \n",
    "\n",
    "combined3.columns = ['> 10,000,000', '9,000,000s', '8,000,000s', '7,000,000', '6,000,000s', '5,000,000s', '4,000,000s',\n",
    "                   '3,000,000s', '2,000,000s', '1,000,000s', '< 1,000,000']\n",
    "combined4 = pd.DataFrame.transpose(combined3)\n",
    "\n",
    "pga_fair3 = combined4['Fairway Percentage']\n",
    "pga_fair4 = pd.DataFrame(pga_fair3)\n",
    "pga_fair4\n",
    "pga_fair4 = pga_fair4.rename(columns = {'Fairway Percentage': 'Counts'})\n",
    "total2 = pga_fair4['Counts'].sum()\n",
    "pga_fair4['Fairway Percentage'] = pga_fair3.index\n",
    "pga_fair4['Probability'] = pga_fair4['Counts']/total2\n",
    "plt.bar(pga_fair4['Fairway Percentage'], pga_fair4['Probability'])\n",
    "plt.xlabel('Money Earned')\n",
    "plt.ylabel('Probability')\n",
    "plt.title('PMF of Money Earned when Fairways Hit Percentage is Greater than 61%')\n",
    "plt.xticks(rotation=45)\n",
    "plt.show"
   ]
  },
  {
   "cell_type": "code",
   "execution_count": 108,
   "metadata": {},
   "outputs": [
    {
     "data": {
      "text/plain": [
       "<function matplotlib.pyplot.show(*args, **kw)>"
      ]
     },
     "execution_count": 108,
     "metadata": {},
     "output_type": "execute_result"
    },
    {
     "data": {
      "image/png": "[encoded data removed]",
      "text/plain": [
       "<Figure size 432x288 with 1 Axes>"
      ]
     },
     "metadata": {
      "needs_background": "light"
     },
     "output_type": "display_data"
    }
   ],
   "source": [
    "#CDF of money earned on tour.\n",
    "\n",
    "import numpy as np\n",
    "\n",
    "x = np.sort(pga_data['Money'])\n",
    "y = np.arange(1, len(x)+1)/float(len(x))\n",
    "\n",
    "plt.plot(x,y)\n",
    "plt.xlabel('Money Earned')\n",
    "plt.ylabel('CDF')\n",
    "plt.title('CDF of Money Earned')\n",
    "plt.show\n",
    "\n"
   ]
  },
  {
   "cell_type": "code",
   "execution_count": 135,
   "metadata": {},
   "outputs": [
    {
     "data": {
      "text/plain": [
       "<function matplotlib.pyplot.show(*args, **kw)>"
      ]
     },
     "execution_count": 135,
     "metadata": {},
     "output_type": "execute_result"
    },
    {
     "data": {
      "image/png": "[encoded data removed]",
      "text/plain": [
       "<Figure size 432x288 with 1 Axes>"
      ]
     },
     "metadata": {
      "needs_background": "light"
     },
     "output_type": "display_data"
    }
   ],
   "source": [
    "plt.scatter(pga_data['Fairway Percentage'], pga_data['Money'])\n",
    "plt.xlabel('Fairway Hits Percentage')\n",
    "plt.ylabel('Money Earned')\n",
    "plt.title('Plot of Fairway Percentage and Money Earned')\n",
    "plt.show"
   ]
  },
  {
   "cell_type": "code",
   "execution_count": 121,
   "metadata": {},
   "outputs": [
    {
     "data": {
      "text/html": [
       "<div>\n",
       "<style scoped>\n",
       "    .dataframe tbody tr th:only-of-type {\n",
       "        vertical-align: middle;\n",
       "    }\n",
       "\n",
       "    .dataframe tbody tr th {\n",
       "        vertical-align: top;\n",
       "    }\n",
       "\n",
       "    .dataframe thead th {\n",
       "        text-align: right;\n",
       "    }\n",
       "</style>\n",
       "<table border=\"1\" class=\"dataframe\">\n",
       "  <thead>\n",
       "    <tr style=\"text-align: right;\">\n",
       "      <th></th>\n",
       "      <th>Fairway Percentage</th>\n",
       "      <th>Money</th>\n",
       "    </tr>\n",
       "  </thead>\n",
       "  <tbody>\n",
       "    <tr>\n",
       "      <th>Fairway Percentage</th>\n",
       "      <td>1.00000</td>\n",
       "      <td>0.01787</td>\n",
       "    </tr>\n",
       "    <tr>\n",
       "      <th>Money</th>\n",
       "      <td>0.01787</td>\n",
       "      <td>1.00000</td>\n",
       "    </tr>\n",
       "  </tbody>\n",
       "</table>\n",
       "</div>"
      ],
      "text/plain": [
       "                    Fairway Percentage    Money\n",
       "Fairway Percentage             1.00000  0.01787\n",
       "Money                          0.01787  1.00000"
      ]
     },
     "execution_count": 121,
     "metadata": {},
     "output_type": "execute_result"
    }
   ],
   "source": [
    "corr = pga_data[['Fairway Percentage', 'Money']].corr(method = 'pearson')\n",
    "corr"
   ]
  },
  {
   "cell_type": "markdown",
   "metadata": {},
   "source": [
    "The correlation coefficient is 0.01787. This is a low coefficient and shows there is a very weak relationship between the two variables, Fairway Percentage and Money. This isn't surprising judging from how the scatter plot looks. It shows us there isn't a linear relationship with the data."
   ]
  },
  {
   "cell_type": "code",
   "execution_count": 122,
   "metadata": {},
   "outputs": [
    {
     "data": {
      "text/html": [
       "<div>\n",
       "<style scoped>\n",
       "    .dataframe tbody tr th:only-of-type {\n",
       "        vertical-align: middle;\n",
       "    }\n",
       "\n",
       "    .dataframe tbody tr th {\n",
       "        vertical-align: top;\n",
       "    }\n",
       "\n",
       "    .dataframe thead th {\n",
       "        text-align: right;\n",
       "    }\n",
       "</style>\n",
       "<table border=\"1\" class=\"dataframe\">\n",
       "  <thead>\n",
       "    <tr style=\"text-align: right;\">\n",
       "      <th></th>\n",
       "      <th>Fairway Percentage</th>\n",
       "      <th>Money</th>\n",
       "    </tr>\n",
       "  </thead>\n",
       "  <tbody>\n",
       "    <tr>\n",
       "      <th>Fairway Percentage</th>\n",
       "      <td>25.591911</td>\n",
       "      <td>1.275132e+05</td>\n",
       "    </tr>\n",
       "    <tr>\n",
       "      <th>Money</th>\n",
       "      <td>127513.202743</td>\n",
       "      <td>1.989568e+12</td>\n",
       "    </tr>\n",
       "  </tbody>\n",
       "</table>\n",
       "</div>"
      ],
      "text/plain": [
       "                    Fairway Percentage         Money\n",
       "Fairway Percentage           25.591911  1.275132e+05\n",
       "Money                    127513.202743  1.989568e+12"
      ]
     },
     "execution_count": 122,
     "metadata": {},
     "output_type": "execute_result"
    }
   ],
   "source": [
    "cov = pga_data[['Fairway Percentage', 'Money']].cov()\n",
    "cov"
   ]
  },
  {
   "cell_type": "code",
   "execution_count": 125,
   "metadata": {},
   "outputs": [
    {
     "name": "stdout",
     "output_type": "stream",
     "text": [
      "4.600212413181228e-274\n",
      "reject null hypothesis\n"
     ]
    }
   ],
   "source": [
    "from scipy import stats\n",
    "\n",
    "pga_data[['Fairway Percentage', 'Money']].describe()\n",
    "ttest,pval = stats.ttest_rel(pga_data['Fairway Percentage'], pga_data['Money'])\n",
    "print(pval)\n",
    "if pval < 0.05:\n",
    "    print(\"reject null hypothesis\")\n",
    "else:\n",
    "    print(\"accept null hypothesis\")"
   ]
  },
  {
   "cell_type": "markdown",
   "metadata": {},
   "source": [
    "This makes sense to me because of the correlation value we obtained. There is not enough evidence to accept the null hypothesis which was 'Does a higher number of fairways hit lead to more money made on the PGA?'."
   ]
  },
  {
   "cell_type": "code",
   "execution_count": 128,
   "metadata": {},
   "outputs": [
    {
     "data": {
      "text/plain": [
       "LinearRegression(copy_X=True, fit_intercept=True, n_jobs=None, normalize=False)"
      ]
     },
     "execution_count": 128,
     "metadata": {},
     "output_type": "execute_result"
    }
   ],
   "source": [
    "from sklearn import linear_model\n",
    "\n",
    "reg = linear_model.LinearRegression()\n",
    "reg.fit(pga_data[['Fairway Percentage', 'gir']], pga_data.Money)"
   ]
  },
  {
   "cell_type": "code",
   "execution_count": 129,
   "metadata": {},
   "outputs": [
    {
     "data": {
      "text/plain": [
       "array([-28488.93360028, 179754.40518407])"
      ]
     },
     "execution_count": 129,
     "metadata": {},
     "output_type": "execute_result"
    }
   ],
   "source": [
    "reg.coef_"
   ]
  },
  {
   "cell_type": "code",
   "execution_count": 130,
   "metadata": {},
   "outputs": [
    {
     "data": {
      "text/plain": [
       "-8567466.39359179"
      ]
     },
     "execution_count": 130,
     "metadata": {},
     "output_type": "execute_result"
    }
   ],
   "source": [
    "reg.intercept_"
   ]
  },
  {
   "cell_type": "code",
   "execution_count": 132,
   "metadata": {},
   "outputs": [
    {
     "data": {
      "text/plain": [
       "array([4103550.00511665])"
      ]
     },
     "execution_count": 132,
     "metadata": {},
     "output_type": "execute_result"
    }
   ],
   "source": [
    "reg.predict([[60, 80] ])"
   ]
  },
  {
   "cell_type": "markdown",
   "metadata": {},
   "source": [
    "We can see our regression equation looks like this:\n",
    "\n",
    "Money made = -28,488.93*Fairway Percentage + 179,754.41*gir\n",
    "\n",
    "In this model the green in regulation has a higher weight on the equation. I ran a prediction to see what a player is predicted to make for the season if they hit 60% of their fairways and 80% of their greens in regulation. The prediction value is $4,103,550. This makes sense because this player is above average in greens in regulation which equates to a higher payout. "
   ]
  }
 ],
 "metadata": {
  "kernelspec": {
   "display_name": "Python 3",
   "language": "python",
   "name": "python3"
  },
  "language_info": {
   "codemirror_mode": {
    "name": "ipython",
    "version": 3
   },
   "file_extension": ".py",
   "mimetype": "text/x-python",
   "name": "python",
   "nbconvert_exporter": "python",
   "pygments_lexer": "ipython3",
   "version": "3.7.3"
  }
 },
 "nbformat": 4,
 "nbformat_minor": 2
}
